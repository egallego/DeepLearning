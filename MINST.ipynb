{
  "nbformat": 4,
  "nbformat_minor": 0,
  "metadata": {
    "colab": {
      "name": "MINST.ipynb",
      "version": "0.3.2",
      "provenance": []
    },
    "kernelspec": {
      "display_name": "Python 2",
      "language": "python",
      "name": "python2"
    },
    "accelerator": "GPU"
  },
  "cells": [
    {
      "metadata": {
        "id": "ZmzmKX4NfX6J",
        "colab_type": "code",
        "colab": {}
      },
      "cell_type": "code",
      "source": [
        " ## MINST example"
      ],
      "execution_count": 0,
      "outputs": []
    },
    {
      "metadata": {
        "id": "dmeZWucbOVVt",
        "colab_type": "text"
      },
      "cell_type": "markdown",
      "source": [
        "This code presents an example to run the test keras environment"
      ]
    },
    {
      "metadata": {
        "id": "yn4_GTcTOVVu",
        "colab_type": "code",
        "colab": {
          "base_uri": "https://localhost:8080/",
          "height": 51
        },
        "outputId": "b7e4fc0a-215a-48f0-ec20-0921cf655115"
      },
      "cell_type": "code",
      "source": [
        "import keras\n",
        "keras.__version__"
      ],
      "execution_count": 2,
      "outputs": [
        {
          "output_type": "stream",
          "text": [
            "Using TensorFlow backend.\n"
          ],
          "name": "stderr"
        },
        {
          "output_type": "execute_result",
          "data": {
            "text/plain": [
              "'2.1.6'"
            ]
          },
          "metadata": {
            "tags": []
          },
          "execution_count": 2
        }
      ]
    },
    {
      "metadata": {
        "id": "jQkuA_rqflCE",
        "colab_type": "code",
        "colab": {}
      },
      "cell_type": "code",
      "source": [
        "from keras import layers\n",
        "from keras import models\n",
        "import matplotlib.pyplot as plt"
      ],
      "execution_count": 0,
      "outputs": []
    },
    {
      "metadata": {
        "id": "oYps_Wx5JFzN",
        "colab_type": "text"
      },
      "cell_type": "markdown",
      "source": [
        "Create a Convolutional Neural Network "
      ]
    },
    {
      "metadata": {
        "id": "hUdZPeyLf9YE",
        "colab_type": "code",
        "colab": {}
      },
      "cell_type": "code",
      "source": [
        "model = models.Sequential()\n",
        "model.add(layers.Conv2D(32, (5, 5), activation='relu', input_shape=(28, 28, 1)))\n",
        "model.add(layers.MaxPooling2D((2, 2)))\n",
        "model.add(layers.Conv2D(64, (5, 5), activation='relu'))\n",
        "model.add(layers.MaxPooling2D((2, 2)))\n",
        "model.add(layers.Flatten())\n",
        "model.add(layers.Dense(10, activation='softmax'))\n"
      ],
      "execution_count": 0,
      "outputs": []
    },
    {
      "metadata": {
        "id": "-xzQFOgIJFzQ",
        "colab_type": "text"
      },
      "cell_type": "markdown",
      "source": [
        "## Print model sumary"
      ]
    },
    {
      "metadata": {
        "id": "EDYpSlpyJFzS",
        "colab_type": "code",
        "colab": {
          "base_uri": "https://localhost:8080/",
          "height": 340
        },
        "outputId": "8c49f93e-a7b3-4c27-815a-ef61acb31310"
      },
      "cell_type": "code",
      "source": [
        "model.summary()"
      ],
      "execution_count": 5,
      "outputs": [
        {
          "output_type": "stream",
          "text": [
            "_________________________________________________________________\n",
            "Layer (type)                 Output Shape              Param #   \n",
            "=================================================================\n",
            "conv2d_1 (Conv2D)            (None, 24, 24, 32)        832       \n",
            "_________________________________________________________________\n",
            "max_pooling2d_1 (MaxPooling2 (None, 12, 12, 32)        0         \n",
            "_________________________________________________________________\n",
            "conv2d_2 (Conv2D)            (None, 8, 8, 64)          51264     \n",
            "_________________________________________________________________\n",
            "max_pooling2d_2 (MaxPooling2 (None, 4, 4, 64)          0         \n",
            "_________________________________________________________________\n",
            "flatten_1 (Flatten)          (None, 1024)              0         \n",
            "_________________________________________________________________\n",
            "dense_1 (Dense)              (None, 10)                10250     \n",
            "=================================================================\n",
            "Total params: 62,346\n",
            "Trainable params: 62,346\n",
            "Non-trainable params: 0\n",
            "_________________________________________________________________\n"
          ],
          "name": "stdout"
        }
      ]
    },
    {
      "metadata": {
        "id": "kXcR7sk7JFzW",
        "colab_type": "text"
      },
      "cell_type": "markdown",
      "source": [
        "## Dataset: Load and split "
      ]
    },
    {
      "metadata": {
        "id": "AQ6kP3cagFof",
        "colab_type": "code",
        "colab": {}
      },
      "cell_type": "code",
      "source": [
        "from keras.datasets import mnist\n",
        "from keras.utils import to_categorical\n",
        "\n",
        "(train_images, train_labels), (test_images, test_labels) = mnist.load_data()\n",
        "\n",
        "train_images = train_images.reshape((60000, 28, 28, 1))\n",
        "train_images = train_images.astype('float32') / 255\n",
        "\n",
        "test_images = test_images.reshape((10000, 28, 28, 1))\n",
        "test_images = test_images.astype('float32') / 255\n",
        "\n",
        "train_labels = to_categorical(train_labels)\n",
        "test_labels = to_categorical(test_labels)"
      ],
      "execution_count": 0,
      "outputs": []
    },
    {
      "metadata": {
        "id": "zP1TN9tuJFzc",
        "colab_type": "text"
      },
      "cell_type": "markdown",
      "source": [
        "## Train the network"
      ]
    },
    {
      "metadata": {
        "id": "QCSh_dBxgHyR",
        "colab_type": "code",
        "colab": {
          "base_uri": "https://localhost:8080/",
          "height": 1734
        },
        "outputId": "810c334f-a689-4c97-d079-e33b99fc978c"
      },
      "cell_type": "code",
      "source": [
        "batch_size = 100\n",
        "epochs = 50\n",
        "\n",
        "model.compile(loss='categorical_crossentropy',\n",
        "              optimizer='sgd',\n",
        "              metrics=['accuracy'])\n",
        "\n",
        "history = model.fit(train_images, train_labels,\n",
        "          batch_size=batch_size,\n",
        "          epochs=epochs,\n",
        "          verbose=1,\n",
        "          validation_split=0.1\n",
        "          )"
      ],
      "execution_count": 7,
      "outputs": [
        {
          "output_type": "stream",
          "text": [
            "Train on 54000 samples, validate on 6000 samples\n",
            "Epoch 1/50\n",
            "54000/54000 [==============================] - 7s 133us/step - loss: 0.9923 - acc: 0.7360 - val_loss: 0.2734 - val_acc: 0.9227\n",
            "Epoch 2/50\n",
            "54000/54000 [==============================] - 6s 116us/step - loss: 0.2834 - acc: 0.9161 - val_loss: 0.1840 - val_acc: 0.9502\n",
            "Epoch 3/50\n",
            "54000/54000 [==============================] - 6s 117us/step - loss: 0.2079 - acc: 0.9387 - val_loss: 0.1470 - val_acc: 0.9595\n",
            "Epoch 4/50\n",
            "54000/54000 [==============================] - 6s 115us/step - loss: 0.1664 - acc: 0.9507 - val_loss: 0.1222 - val_acc: 0.9657\n",
            "Epoch 5/50\n",
            "54000/54000 [==============================] - 6s 108us/step - loss: 0.1405 - acc: 0.9594 - val_loss: 0.1050 - val_acc: 0.9713\n",
            "Epoch 6/50\n",
            "54000/54000 [==============================] - 6s 108us/step - loss: 0.1235 - acc: 0.9632 - val_loss: 0.0970 - val_acc: 0.9713\n",
            "Epoch 7/50\n",
            "54000/54000 [==============================] - 6s 108us/step - loss: 0.1111 - acc: 0.9670 - val_loss: 0.0872 - val_acc: 0.9748\n",
            "Epoch 8/50\n",
            "54000/54000 [==============================] - 6s 111us/step - loss: 0.1011 - acc: 0.9699 - val_loss: 0.0871 - val_acc: 0.9733\n",
            "Epoch 9/50\n",
            "54000/54000 [==============================] - 6s 114us/step - loss: 0.0936 - acc: 0.9719 - val_loss: 0.0764 - val_acc: 0.9775\n",
            "Epoch 10/50\n",
            "54000/54000 [==============================] - 6s 114us/step - loss: 0.0873 - acc: 0.9742 - val_loss: 0.0748 - val_acc: 0.9780\n",
            "Epoch 11/50\n",
            "54000/54000 [==============================] - 6s 114us/step - loss: 0.0821 - acc: 0.9753 - val_loss: 0.0687 - val_acc: 0.9812\n",
            "Epoch 12/50\n",
            "54000/54000 [==============================] - 6s 106us/step - loss: 0.0775 - acc: 0.9768 - val_loss: 0.0679 - val_acc: 0.9785\n",
            "Epoch 13/50\n",
            "54000/54000 [==============================] - 6s 109us/step - loss: 0.0732 - acc: 0.9779 - val_loss: 0.0609 - val_acc: 0.9815\n",
            "Epoch 14/50\n",
            "54000/54000 [==============================] - 6s 108us/step - loss: 0.0700 - acc: 0.9790 - val_loss: 0.0634 - val_acc: 0.9813\n",
            "Epoch 15/50\n",
            "54000/54000 [==============================] - 6s 110us/step - loss: 0.0667 - acc: 0.9799 - val_loss: 0.0601 - val_acc: 0.9820\n",
            "Epoch 16/50\n",
            "54000/54000 [==============================] - 6s 110us/step - loss: 0.0642 - acc: 0.9807 - val_loss: 0.0588 - val_acc: 0.9815\n",
            "Epoch 17/50\n",
            "54000/54000 [==============================] - 6s 108us/step - loss: 0.0614 - acc: 0.9817 - val_loss: 0.0592 - val_acc: 0.9815\n",
            "Epoch 18/50\n",
            "54000/54000 [==============================] - 6s 107us/step - loss: 0.0591 - acc: 0.9819 - val_loss: 0.0549 - val_acc: 0.9840\n",
            "Epoch 19/50\n",
            "54000/54000 [==============================] - 6s 109us/step - loss: 0.0576 - acc: 0.9826 - val_loss: 0.0577 - val_acc: 0.9828\n",
            "Epoch 20/50\n",
            "54000/54000 [==============================] - 6s 108us/step - loss: 0.0559 - acc: 0.9829 - val_loss: 0.0550 - val_acc: 0.9840\n",
            "Epoch 21/50\n",
            "54000/54000 [==============================] - 6s 106us/step - loss: 0.0540 - acc: 0.9842 - val_loss: 0.0546 - val_acc: 0.9835\n",
            "Epoch 22/50\n",
            "54000/54000 [==============================] - 6s 112us/step - loss: 0.0519 - acc: 0.9844 - val_loss: 0.0542 - val_acc: 0.9833\n",
            "Epoch 23/50\n",
            "54000/54000 [==============================] - 6s 109us/step - loss: 0.0507 - acc: 0.9848 - val_loss: 0.0519 - val_acc: 0.9843\n",
            "Epoch 24/50\n",
            "54000/54000 [==============================] - 6s 106us/step - loss: 0.0495 - acc: 0.9853 - val_loss: 0.0509 - val_acc: 0.9842\n",
            "Epoch 25/50\n",
            "54000/54000 [==============================] - 6s 110us/step - loss: 0.0478 - acc: 0.9855 - val_loss: 0.0512 - val_acc: 0.9852\n",
            "Epoch 26/50\n",
            "54000/54000 [==============================] - 6s 108us/step - loss: 0.0466 - acc: 0.9860 - val_loss: 0.0522 - val_acc: 0.9838\n",
            "Epoch 27/50\n",
            "54000/54000 [==============================] - 6s 107us/step - loss: 0.0458 - acc: 0.9862 - val_loss: 0.0481 - val_acc: 0.9857\n",
            "Epoch 28/50\n",
            "54000/54000 [==============================] - 6s 112us/step - loss: 0.0449 - acc: 0.9869 - val_loss: 0.0475 - val_acc: 0.9850\n",
            "Epoch 29/50\n",
            "54000/54000 [==============================] - 6s 110us/step - loss: 0.0439 - acc: 0.9864 - val_loss: 0.0467 - val_acc: 0.9857\n",
            "Epoch 30/50\n",
            "54000/54000 [==============================] - 6s 106us/step - loss: 0.0426 - acc: 0.9874 - val_loss: 0.0451 - val_acc: 0.9858\n",
            "Epoch 31/50\n",
            "54000/54000 [==============================] - 6s 109us/step - loss: 0.0411 - acc: 0.9877 - val_loss: 0.0474 - val_acc: 0.9855\n",
            "Epoch 32/50\n",
            "54000/54000 [==============================] - 6s 107us/step - loss: 0.0405 - acc: 0.9881 - val_loss: 0.0448 - val_acc: 0.9865\n",
            "Epoch 33/50\n",
            "54000/54000 [==============================] - 6s 106us/step - loss: 0.0399 - acc: 0.9884 - val_loss: 0.0458 - val_acc: 0.9862\n",
            "Epoch 34/50\n",
            "54000/54000 [==============================] - 6s 111us/step - loss: 0.0391 - acc: 0.9881 - val_loss: 0.0439 - val_acc: 0.9863\n",
            "Epoch 35/50\n",
            "54000/54000 [==============================] - 6s 109us/step - loss: 0.0384 - acc: 0.9884 - val_loss: 0.0443 - val_acc: 0.9860\n",
            "Epoch 36/50\n",
            "54000/54000 [==============================] - 6s 108us/step - loss: 0.0374 - acc: 0.9886 - val_loss: 0.0444 - val_acc: 0.9867\n",
            "Epoch 37/50\n",
            "54000/54000 [==============================] - 6s 108us/step - loss: 0.0370 - acc: 0.9888 - val_loss: 0.0439 - val_acc: 0.9870\n",
            "Epoch 38/50\n",
            "54000/54000 [==============================] - 6s 109us/step - loss: 0.0359 - acc: 0.9894 - val_loss: 0.0432 - val_acc: 0.9875\n",
            "Epoch 39/50\n",
            "54000/54000 [==============================] - 6s 107us/step - loss: 0.0358 - acc: 0.9890 - val_loss: 0.0449 - val_acc: 0.9857\n",
            "Epoch 40/50\n",
            "54000/54000 [==============================] - 6s 109us/step - loss: 0.0346 - acc: 0.9895 - val_loss: 0.0454 - val_acc: 0.9873\n",
            "Epoch 41/50\n",
            "54000/54000 [==============================] - 6s 110us/step - loss: 0.0342 - acc: 0.9894 - val_loss: 0.0431 - val_acc: 0.9873\n",
            "Epoch 42/50\n",
            "54000/54000 [==============================] - 6s 108us/step - loss: 0.0330 - acc: 0.9902 - val_loss: 0.0462 - val_acc: 0.9868\n",
            "Epoch 43/50\n",
            "54000/54000 [==============================] - 6s 111us/step - loss: 0.0330 - acc: 0.9900 - val_loss: 0.0443 - val_acc: 0.9872\n",
            "Epoch 44/50\n",
            "54000/54000 [==============================] - 6s 108us/step - loss: 0.0322 - acc: 0.9901 - val_loss: 0.0443 - val_acc: 0.9860\n",
            "Epoch 45/50\n",
            "54000/54000 [==============================] - 6s 107us/step - loss: 0.0317 - acc: 0.9903 - val_loss: 0.0416 - val_acc: 0.9870\n",
            "Epoch 46/50\n",
            "54000/54000 [==============================] - 6s 109us/step - loss: 0.0316 - acc: 0.9905 - val_loss: 0.0415 - val_acc: 0.9877\n",
            "Epoch 47/50\n",
            "54000/54000 [==============================] - 6s 108us/step - loss: 0.0305 - acc: 0.9909 - val_loss: 0.0421 - val_acc: 0.9868\n",
            "Epoch 48/50\n",
            "54000/54000 [==============================] - 6s 110us/step - loss: 0.0301 - acc: 0.9909 - val_loss: 0.0414 - val_acc: 0.9878\n",
            "Epoch 49/50\n",
            "54000/54000 [==============================] - 6s 111us/step - loss: 0.0297 - acc: 0.9908 - val_loss: 0.0428 - val_acc: 0.9873\n",
            "Epoch 50/50\n",
            "54000/54000 [==============================] - 6s 106us/step - loss: 0.0294 - acc: 0.9914 - val_loss: 0.0419 - val_acc: 0.9867\n"
          ],
          "name": "stdout"
        }
      ]
    },
    {
      "metadata": {
        "id": "PHB8py8gJFzk",
        "colab_type": "text"
      },
      "cell_type": "markdown",
      "source": [
        "## Evaluate model data"
      ]
    },
    {
      "metadata": {
        "id": "_dP2yf1ygKjF",
        "colab_type": "code",
        "colab": {
          "base_uri": "https://localhost:8080/",
          "height": 34
        },
        "outputId": "a55cb9df-fe0a-4db1-86ba-d8d1b04477d9"
      },
      "cell_type": "code",
      "source": [
        "test_loss, test_acc = model.evaluate(test_images, test_labels)"
      ],
      "execution_count": 8,
      "outputs": [
        {
          "output_type": "stream",
          "text": [
            "10000/10000 [==============================] - 1s 106us/step\n"
          ],
          "name": "stdout"
        }
      ]
    },
    {
      "metadata": {
        "id": "F-QvkszoJFzu",
        "colab_type": "text"
      },
      "cell_type": "markdown",
      "source": [
        "## Present training information"
      ]
    },
    {
      "metadata": {
        "id": "IkIu2AGbJFzv",
        "colab_type": "code",
        "colab": {
          "base_uri": "https://localhost:8080/",
          "height": 532
        },
        "outputId": "46ac0740-6f90-448c-a7b8-90d61e911c5c"
      },
      "cell_type": "code",
      "source": [
        "figs, axs = plt.subplots(nrows=2, ncols=2, facecolor='white', figsize=(16,8))\n",
        "for i in [0,1]:\n",
        "  ax=axs[i,0]\n",
        "\n",
        "  for label in ['acc', 'val_acc']:\n",
        "      ax.plot(history.epoch, history.history[label], label=label)\n",
        "  ax.legend()\n",
        "  if i==0:\n",
        "    ax.set_title('Accuracy')\n",
        "  else:\n",
        "    ax.set_xlim(10,50)\n",
        "    ax.set_ylim(0.97,1)\n",
        "    ax.set_title('Accuracy (Detail)')\n",
        "\n",
        "for i in [0,1]:\n",
        "  ax=axs[i,1]\n",
        "  for label in ['loss', 'val_loss']:\n",
        "      ax.plot(history.epoch,history.history[label], label=label)\n",
        "  ax.legend()\n",
        "  if i==0:\n",
        "    ax.set_title('Loss')\n",
        "  else:\n",
        "    ax.set_xlim(10,50)\n",
        "    ax.set_ylim(0,0.15)\n",
        "    ax.set_title('Loss (Detail)')\n",
        "\n",
        "print 'Test loss: %0.5f' % test_loss\n",
        "print 'Test accuracy:', test_acc"
      ],
      "execution_count": 9,
      "outputs": [
        {
          "output_type": "stream",
          "text": [
            "Test loss: 0.03616\n",
            "Test accuracy: 0.9881\n"
          ],
          "name": "stdout"
        },
        {
          "output_type": "display_data",
          "data": {
            "image/png": "[encoded data removed]",
            "text/plain": [
              "<matplotlib.figure.Figure at 0x7feec8a05810>"
            ]
          },
          "metadata": {
            "tags": []
          }
        }
      ]
    },
    {
      "metadata": {
        "id": "FvTf7fguJSCV",
        "colab_type": "code",
        "colab": {}
      },
      "cell_type": "code",
      "source": [
        ""
      ],
      "execution_count": 0,
      "outputs": []
    }
  ]
}