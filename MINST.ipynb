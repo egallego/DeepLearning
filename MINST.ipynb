{
 "cells": [
  {
   "cell_type": "heading",
   "metadata": {
    "id": "ZmzmKX4NfX6J",
    "colab_type": "code",
    "colab": {
     "base_uri": "https://localhost:8080/",
     "height": 34.0
    },
    "outputId": "c3eef8f9-8f6b-41a2-850b-d3e781bbe327",
    "executionInfo": {
     "status": "ok",
     "timestamp": 1.537422613752E12,
     "user_tz": -120.0,
     "elapsed": 515.0,
     "user": {
      "displayName": "Esteve Gallego",
      "photoUrl": "//lh5.googleusercontent.com/-b2Y88GjlN6c/AAAAAAAAAAI/AAAAAAAAAGw/Q70JbwKAh-Y/s50-c-k-no/photo.jpg",
      "userId": "100098122301883613244"
     }
    }
   },
   "level": 1,
   "source": [
    " MINST example"
   ]
  },
  {
   "cell_type": "markdown",
   "metadata": {},
   "source": [
    "This code presents an example to run the test keras environment"
   ]
  },
  {
   "cell_type": "code",
   "execution_count": null,
   "metadata": {},
   "outputs": [],
   "source": [
    "import keras\n",
    "keras.__version__"
   ]
  },
  {
   "cell_type": "code",
   "execution_count": 3,
   "metadata": {
    "id": "jQkuA_rqflCE",
    "colab_type": "code",
    "colab": {
     "base_uri": "https://localhost:8080/",
     "height": 204.0
    },
    "outputId": "eb29aa49-1474-4df7-f44b-b051536484fb",
    "executionInfo": {
     "status": "ok",
     "timestamp": 1.537422614648E12,
     "user_tz": -120.0,
     "elapsed": 812.0,
     "user": {
      "displayName": "Esteve Gallego",
      "photoUrl": "//lh5.googleusercontent.com/-b2Y88GjlN6c/AAAAAAAAAAI/AAAAAAAAAGw/Q70JbwKAh-Y/s50-c-k-no/photo.jpg",
      "userId": "100098122301883613244"
     }
    }
   },
   "outputs": [
    {
     "name": "stdout",
     "output_type": "stream",
     "text": [
      "_________________________________________________________________\n",
      "Layer (type)                 Output Shape              Param #   \n",
      "=================================================================\n",
      "conv2d_1 (Conv2D)            (None, 24, 24, 32)        832       \n",
      "_________________________________________________________________\n",
      "max_pooling2d_1 (MaxPooling2 (None, 12, 12, 32)        0         \n",
      "=================================================================\n",
      "Total params: 832\n",
      "Trainable params: 832\n",
      "Non-trainable params: 0\n",
      "_________________________________________________________________\n"
     ]
    }
   ],
   "source": [
    "from keras import layers\n",
    "from keras import models\n",
    "from keras.datasets import mnist\n",
    "from keras.utils import to_categorical"
   ]
  },
  {
   "cell_type": "markdown",
   "metadata": {},
   "source": [
    ""
   ]
  },
  {
   "cell_type": "code",
   "execution_count": 4,
   "metadata": {
    "id": "hUdZPeyLf9YE",
    "colab_type": "code",
    "colab": {
     "base_uri": "https://localhost:8080/",
     "height": 272.0
    },
    "outputId": "56635186-d9ac-47ee-c380-3a10bdba1661",
    "executionInfo": {
     "status": "ok",
     "timestamp": 1.537422615289E12,
     "user_tz": -120.0,
     "elapsed": 578.0,
     "user": {
      "displayName": "Esteve Gallego",
      "photoUrl": "//lh5.googleusercontent.com/-b2Y88GjlN6c/AAAAAAAAAAI/AAAAAAAAAGw/Q70JbwKAh-Y/s50-c-k-no/photo.jpg",
      "userId": "100098122301883613244"
     }
    }
   },
   "outputs": [
    {
     "name": "stdout",
     "output_type": "stream",
     "text": [
      "_________________________________________________________________\n",
      "Layer (type)                 Output Shape              Param #   \n",
      "=================================================================\n",
      "conv2d_2 (Conv2D)            (None, 24, 24, 32)        832       \n",
      "_________________________________________________________________\n",
      "max_pooling2d_2 (MaxPooling2 (None, 12, 12, 32)        0         \n",
      "_________________________________________________________________\n",
      "conv2d_3 (Conv2D)            (None, 8, 8, 64)          51264     \n",
      "_________________________________________________________________\n",
      "max_pooling2d_3 (MaxPooling2 (None, 4, 4, 64)          0         \n",
      "=================================================================\n",
      "Total params: 52,096\n",
      "Trainable params: 52,096\n",
      "Non-trainable params: 0\n",
      "_________________________________________________________________\n"
     ]
    }
   ],
   "source": [
    "model = models.Sequential()\n",
    "model.add(layers.Conv2D(32, (5, 5), activation='relu', input_shape=(28, 28, 1)))\n",
    "model.add(layers.MaxPooling2D((2, 2)))\n",
    "model.add(layers.Conv2D(64, (5, 5), activation='relu'))\n",
    "model.add(layers.MaxPooling2D((2, 2)))\n",
    "model.add(layers.Flatten())\n",
    "model.add(layers.Dense(10, activation='softmax'))\n",
    "model.summary()"
   ]
  },
  {
   "cell_type": "markdown",
   "metadata": {},
   "source": [
    "## Load data set"
   ]
  },
  {
   "cell_type": "code",
   "execution_count": 7,
   "metadata": {
    "id": "AQ6kP3cagFof",
    "colab_type": "code",
    "colab": {
     "base_uri": "https://localhost:8080/",
     "height": 85.0
    },
    "outputId": "11e70a67-f3b8-49af-f685-5f252f221e6a",
    "executionInfo": {
     "status": "ok",
     "timestamp": 1.537422621268E12,
     "user_tz": -120.0,
     "elapsed": 4614.0,
     "user": {
      "displayName": "Esteve Gallego",
      "photoUrl": "//lh5.googleusercontent.com/-b2Y88GjlN6c/AAAAAAAAAAI/AAAAAAAAAGw/Q70JbwKAh-Y/s50-c-k-no/photo.jpg",
      "userId": "100098122301883613244"
     }
    }
   },
   "outputs": [
    {
     "name": "stdout",
     "output_type": "stream",
     "text": [
      "Downloading data from https://s3.amazonaws.com/img-datasets/mnist.npz\n",
      "11493376/11490434 [==============================] - 3s 0us/step\n",
      "11501568/11490434 [==============================] - 3s 0us/step\n",
      "(60000, 28, 28)\n"
     ]
    }
   ],
   "source": [
    "(train_images, train_labels), (test_images, test_labels) = mnist.load_data()\n",
    "\n",
    "print (train_images.shape)\n",
    "train_images = train_images.reshape((60000, 28, 28, 1))\n",
    "train_images = train_images.astype('float32') / 255\n",
    "\n",
    "test_images = test_images.reshape((10000, 28, 28, 1))\n",
    "test_images = test_images.astype('float32') / 255\n",
    "\n",
    "train_labels = to_categorical(train_labels)\n",
    "test_labels = to_categorical(test_labels)"
   ]
  },
  {
   "cell_type": "code",
   "execution_count": 0,
   "metadata": {
    "id": "QCSh_dBxgHyR",
    "colab_type": "code",
    "colab": {
     "base_uri": "https://localhost:8080/",
     "height": 1241.0
    },
    "outputId": "0855ab86-51f2-4907-e5ea-690d21c26075"
   },
   "outputs": [
    {
     "name": "stdout",
     "output_type": "stream",
     "text": [
      "Epoch 1/50\n",
      "60000/60000 [==============================] - 70s 1ms/step - loss: 0.9341 - acc: 0.7622\n",
      "Epoch 2/50\n",
      "60000/60000 [==============================] - 70s 1ms/step - loss: 0.2610 - acc: 0.9229\n",
      "Epoch 3/50\n",
      "60000/60000 [==============================] - 70s 1ms/step - loss: 0.1887 - acc: 0.9445\n",
      "Epoch 4/50\n",
      "60000/60000 [==============================] - 70s 1ms/step - loss: 0.1522 - acc: 0.9552\n",
      "Epoch 5/50\n",
      "60000/60000 [==============================] - 70s 1ms/step - loss: 0.1296 - acc: 0.9618\n",
      "Epoch 6/50\n",
      "60000/60000 [==============================] - 70s 1ms/step - loss: 0.1143 - acc: 0.9665\n",
      "Epoch 7/50\n",
      "60000/60000 [==============================] - 70s 1ms/step - loss: 0.1028 - acc: 0.9695\n",
      "Epoch 8/50\n",
      "60000/60000 [==============================] - 70s 1ms/step - loss: 0.0940 - acc: 0.9719\n",
      "Epoch 9/50\n",
      "60000/60000 [==============================] - 70s 1ms/step - loss: 0.0870 - acc: 0.9740\n",
      "Epoch 10/50\n",
      "60000/60000 [==============================] - 73s 1ms/step - loss: 0.0816 - acc: 0.9757\n",
      "Epoch 11/50\n",
      "60000/60000 [==============================] - 71s 1ms/step - loss: 0.0769 - acc: 0.9768\n",
      "Epoch 12/50\n",
      "60000/60000 [==============================] - 70s 1ms/step - loss: 0.0723 - acc: 0.9783\n",
      "Epoch 13/50\n",
      "60000/60000 [==============================] - 70s 1ms/step - loss: 0.0689 - acc: 0.9797\n",
      "Epoch 14/50\n",
      "60000/60000 [==============================] - 70s 1ms/step - loss: 0.0654 - acc: 0.9808\n",
      "Epoch 15/50\n",
      "60000/60000 [==============================] - 70s 1ms/step - loss: 0.0630 - acc: 0.9810\n",
      "Epoch 16/50\n",
      "60000/60000 [==============================] - 70s 1ms/step - loss: 0.0603 - acc: 0.9819\n",
      "Epoch 17/50\n",
      "60000/60000 [==============================] - 70s 1ms/step - loss: 0.0581 - acc: 0.9831\n",
      "Epoch 18/50\n",
      "60000/60000 [==============================] - 70s 1ms/step - loss: 0.0558 - acc: 0.9836\n",
      "Epoch 19/50\n",
      "60000/60000 [==============================] - 70s 1ms/step - loss: 0.0536 - acc: 0.9842\n",
      "Epoch 20/50\n",
      "60000/60000 [==============================] - 70s 1ms/step - loss: 0.0524 - acc: 0.9847\n",
      "Epoch 21/50\n",
      "60000/60000 [==============================] - 70s 1ms/step - loss: 0.0507 - acc: 0.9851\n",
      "Epoch 22/50\n",
      "60000/60000 [==============================] - 70s 1ms/step - loss: 0.0489 - acc: 0.9854\n",
      "Epoch 23/50\n",
      "60000/60000 [==============================] - 70s 1ms/step - loss: 0.0477 - acc: 0.9858\n",
      "Epoch 24/50\n",
      "60000/60000 [==============================] - 70s 1ms/step - loss: 0.0462 - acc: 0.9862\n",
      "Epoch 25/50\n",
      "60000/60000 [==============================] - 71s 1ms/step - loss: 0.0452 - acc: 0.9868\n",
      "Epoch 26/50\n",
      "60000/60000 [==============================] - 70s 1ms/step - loss: 0.0440 - acc: 0.9868\n",
      "Epoch 27/50\n",
      "60000/60000 [==============================] - 70s 1ms/step - loss: 0.0427 - acc: 0.9872\n",
      "Epoch 28/50\n",
      "60000/60000 [==============================] - 70s 1ms/step - loss: 0.0418 - acc: 0.9878\n",
      "Epoch 29/50\n",
      "60000/60000 [==============================] - 70s 1ms/step - loss: 0.0407 - acc: 0.9880\n",
      "Epoch 30/50\n",
      "60000/60000 [==============================] - 70s 1ms/step - loss: 0.0398 - acc: 0.9885\n",
      "Epoch 31/50\n",
      "60000/60000 [==============================] - 71s 1ms/step - loss: 0.0389 - acc: 0.9886\n",
      "Epoch 32/50\n",
      "60000/60000 [==============================] - 70s 1ms/step - loss: 0.0381 - acc: 0.9888\n",
      "Epoch 33/50\n",
      "60000/60000 [==============================] - 71s 1ms/step - loss: 0.0373 - acc: 0.9888\n",
      "Epoch 34/50\n",
      "60000/60000 [==============================] - 71s 1ms/step - loss: 0.0366 - acc: 0.9889\n",
      "Epoch 35/50\n",
      "60000/60000 [==============================] - 71s 1ms/step - loss: 0.0359 - acc: 0.9894\n",
      "Epoch 36/50\n",
      "11800/60000 [====>.........................] - ETA: 57s - loss: 0.0328 - acc: 0.9898"
     ]
    }
   ],
   "source": [
    "batch_size = 100\n",
    "epochs = 50\n",
    "\n",
    "model.compile(loss='categorical_crossentropy',\n",
    "              optimizer='sgd',\n",
    "              metrics=['accuracy'])\n",
    "\n",
    "model.fit(train_images, train_labels,\n",
    "          batch_size=batch_size,\n",
    "          epochs=epochs,\n",
    "          verbose=1\n",
    "          )"
   ]
  },
  {
   "cell_type": "code",
   "execution_count": 10,
   "metadata": {
    "id": "_dP2yf1ygKjF",
    "colab_type": "code",
    "colab": {
     "base_uri": "https://localhost:8080/",
     "height": 68.0
    },
    "outputId": "494e34f4-3eea-4cb4-e968-890bdce9368f",
    "executionInfo": {
     "status": "ok",
     "timestamp": 1.537422546094E12,
     "user_tz": -120.0,
     "elapsed": 1507.0,
     "user": {
      "displayName": "Esteve Gallego",
      "photoUrl": "//lh5.googleusercontent.com/-b2Y88GjlN6c/AAAAAAAAAAI/AAAAAAAAAGw/Q70JbwKAh-Y/s50-c-k-no/photo.jpg",
      "userId": "100098122301883613244"
     }
    }
   },
   "outputs": [
    {
     "name": "stdout",
     "output_type": "stream",
     "text": [
      "10000/10000 [==============================] - 1s 102us/step\n",
      "('Test loss:', 0.03379943795894506)\n",
      "('Test accuracy:', 0.9888)\n"
     ]
    }
   ],
   "source": [
    "test_loss, test_acc = model.evaluate(test_images, test_labels)\n",
    "\n",
    "print('Test loss:', test_loss)\n",
    "print('Test accuracy:', test_acc)"
   ]
  },
  {
   "cell_type": "code",
   "execution_count": 0,
   "metadata": {
    "id": "XQUUE35UgNiv",
    "colab_type": "code",
    "colab": {}
   },
   "outputs": [],
   "source": [
    ""
   ]
  }
 ],
 "metadata": {
  "colab": {
   "name": "MINST.ipynb",
   "version": "0.3.2",
   "provenance": []
  },
  "kernelspec": {
   "name": "python2",
   "display_name": "Python 2"
  }
 },
 "nbformat": 4,
 "nbformat_minor": 0
}