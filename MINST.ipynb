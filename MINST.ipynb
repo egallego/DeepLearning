{
  "nbformat": 4,
  "nbformat_minor": 0,
  "metadata": {
    "colab": {
      "name": "MINST.ipynb",
      "version": "0.3.2",
      "provenance": []
    },
    "kernelspec": {
      "name": "python2",
      "display_name": "Python 2"
    },
    "accelerator": "GPU"
  },
  "cells": [
    {
      "metadata": {
        "id": "ZmzmKX4NfX6J",
        "colab_type": "code",
        "colab": {}
      },
      "cell_type": "code",
      "source": [
        " ## MINST example"
      ],
      "execution_count": 0,
      "outputs": []
    },
    {
      "metadata": {
        "id": "dmeZWucbOVVt",
        "colab_type": "text"
      },
      "cell_type": "markdown",
      "source": [
        "This code presents an example to run the test keras environment"
      ]
    },
    {
      "metadata": {
        "id": "yn4_GTcTOVVu",
        "colab_type": "code",
        "colab": {
          "base_uri": "https://localhost:8080/",
          "height": 51
        },
        "outputId": "82e450b6-c77c-4480-f6aa-f80feba60520"
      },
      "cell_type": "code",
      "source": [
        "import keras\n",
        "keras.__version__"
      ],
      "execution_count": 3,
      "outputs": [
        {
          "output_type": "stream",
          "text": [
            "Using TensorFlow backend.\n"
          ],
          "name": "stderr"
        },
        {
          "output_type": "execute_result",
          "data": {
            "text/plain": [
              "'2.1.6'"
            ]
          },
          "metadata": {
            "tags": []
          },
          "execution_count": 3
        }
      ]
    },
    {
      "metadata": {
        "id": "jQkuA_rqflCE",
        "colab_type": "code",
        "colab": {}
      },
      "cell_type": "code",
      "source": [
        "from keras import layers\n",
        "from keras import models"
      ],
      "execution_count": 0,
      "outputs": []
    },
    {
      "metadata": {
        "id": "hUdZPeyLf9YE",
        "colab_type": "code",
        "colab": {
          "base_uri": "https://localhost:8080/",
          "height": 340
        },
        "outputId": "f504c9a7-8185-4afe-9f5a-374cb377ae34"
      },
      "cell_type": "code",
      "source": [
        "model = models.Sequential()\n",
        "model.add(layers.Conv2D(32, (5, 5), activation='relu', input_shape=(28, 28, 1)))\n",
        "model.add(layers.MaxPooling2D((2, 2)))\n",
        "model.add(layers.Conv2D(64, (5, 5), activation='relu'))\n",
        "model.add(layers.MaxPooling2D((2, 2)))\n",
        "model.add(layers.Flatten())\n",
        "model.add(layers.Dense(10, activation='softmax'))\n",
        "model.summary()"
      ],
      "execution_count": 5,
      "outputs": [
        {
          "output_type": "stream",
          "text": [
            "_________________________________________________________________\n",
            "Layer (type)                 Output Shape              Param #   \n",
            "=================================================================\n",
            "conv2d_1 (Conv2D)            (None, 24, 24, 32)        832       \n",
            "_________________________________________________________________\n",
            "max_pooling2d_1 (MaxPooling2 (None, 12, 12, 32)        0         \n",
            "_________________________________________________________________\n",
            "conv2d_2 (Conv2D)            (None, 8, 8, 64)          51264     \n",
            "_________________________________________________________________\n",
            "max_pooling2d_2 (MaxPooling2 (None, 4, 4, 64)          0         \n",
            "_________________________________________________________________\n",
            "flatten_1 (Flatten)          (None, 1024)              0         \n",
            "_________________________________________________________________\n",
            "dense_1 (Dense)              (None, 10)                10250     \n",
            "=================================================================\n",
            "Total params: 62,346\n",
            "Trainable params: 62,346\n",
            "Non-trainable params: 0\n",
            "_________________________________________________________________\n"
          ],
          "name": "stdout"
        }
      ]
    },
    {
      "metadata": {
        "id": "ze66idr4f-nW",
        "colab_type": "code",
        "colab": {}
      },
      "cell_type": "code",
      "source": [
        ""
      ],
      "execution_count": 0,
      "outputs": []
    },
    {
      "metadata": {
        "id": "lFhNqFRpgDJ1",
        "colab_type": "code",
        "colab": {}
      },
      "cell_type": "code",
      "source": [
        ""
      ],
      "execution_count": 0,
      "outputs": []
    },
    {
      "metadata": {
        "id": "AQ6kP3cagFof",
        "colab_type": "code",
        "colab": {
          "base_uri": "https://localhost:8080/",
          "height": 85
        },
        "outputId": "7dcb9f8e-f127-42bd-c6ce-b34b50e9c0f5"
      },
      "cell_type": "code",
      "source": [
        "from keras.datasets import mnist\n",
        "from keras.utils import to_categorical\n",
        "\n",
        "(train_images, train_labels), (test_images, test_labels) = mnist.load_data()\n",
        "\n",
        "print (train_images.shape)\n",
        "train_images = train_images.reshape((60000, 28, 28, 1))\n",
        "train_images = train_images.astype('float32') / 255\n",
        "\n",
        "test_images = test_images.reshape((10000, 28, 28, 1))\n",
        "test_images = test_images.astype('float32') / 255\n",
        "\n",
        "train_labels = to_categorical(train_labels)\n",
        "test_labels = to_categorical(test_labels)"
      ],
      "execution_count": 6,
      "outputs": [
        {
          "output_type": "stream",
          "text": [
            "Downloading data from https://s3.amazonaws.com/img-datasets/mnist.npz\n",
            "11493376/11490434 [==============================] - 0s 0us/step\n",
            "11501568/11490434 [==============================] - 0s 0us/step\n",
            "(60000, 28, 28)\n"
          ],
          "name": "stdout"
        }
      ]
    },
    {
      "metadata": {
        "id": "QCSh_dBxgHyR",
        "colab_type": "code",
        "colab": {
          "base_uri": "https://localhost:8080/",
          "height": 1734
        },
        "outputId": "9b592f07-4d0d-4068-faeb-b69ae1a50aa6"
      },
      "cell_type": "code",
      "source": [
        "batch_size = 100\n",
        "epochs = 50\n",
        "\n",
        "model.compile(loss='categorical_crossentropy',\n",
        "              optimizer='sgd',\n",
        "              metrics=['accuracy'])\n",
        "\n",
        "model.fit(train_images, train_labels,\n",
        "          batch_size=batch_size,\n",
        "          epochs=epochs,\n",
        "          verbose=1\n",
        "          )"
      ],
      "execution_count": 7,
      "outputs": [
        {
          "output_type": "stream",
          "text": [
            "Epoch 1/50\n",
            "60000/60000 [==============================] - 8s 132us/step - loss: 0.8952 - acc: 0.7609\n",
            "Epoch 2/50\n",
            "60000/60000 [==============================] - 6s 102us/step - loss: 0.2470 - acc: 0.9277\n",
            "Epoch 3/50\n",
            "60000/60000 [==============================] - 6s 102us/step - loss: 0.1781 - acc: 0.9483\n",
            "Epoch 4/50\n",
            "60000/60000 [==============================] - 6s 101us/step - loss: 0.1432 - acc: 0.9583\n",
            "Epoch 5/50\n",
            "60000/60000 [==============================] - 6s 101us/step - loss: 0.1228 - acc: 0.9646\n",
            "Epoch 6/50\n",
            "60000/60000 [==============================] - 6s 101us/step - loss: 0.1085 - acc: 0.9681\n",
            "Epoch 7/50\n",
            "60000/60000 [==============================] - 6s 102us/step - loss: 0.0978 - acc: 0.9712\n",
            "Epoch 8/50\n",
            "60000/60000 [==============================] - 6s 101us/step - loss: 0.0907 - acc: 0.9735\n",
            "Epoch 9/50\n",
            "60000/60000 [==============================] - 6s 102us/step - loss: 0.0835 - acc: 0.9750\n",
            "Epoch 10/50\n",
            "60000/60000 [==============================] - 6s 101us/step - loss: 0.0787 - acc: 0.9766\n",
            "Epoch 11/50\n",
            "60000/60000 [==============================] - 6s 100us/step - loss: 0.0741 - acc: 0.9778\n",
            "Epoch 12/50\n",
            "60000/60000 [==============================] - 6s 102us/step - loss: 0.0706 - acc: 0.9789\n",
            "Epoch 13/50\n",
            "60000/60000 [==============================] - 6s 102us/step - loss: 0.0674 - acc: 0.9798\n",
            "Epoch 14/50\n",
            "60000/60000 [==============================] - 6s 101us/step - loss: 0.0640 - acc: 0.9806\n",
            "Epoch 15/50\n",
            "60000/60000 [==============================] - 6s 103us/step - loss: 0.0614 - acc: 0.9814\n",
            "Epoch 16/50\n",
            "60000/60000 [==============================] - 6s 101us/step - loss: 0.0596 - acc: 0.9818\n",
            "Epoch 17/50\n",
            "60000/60000 [==============================] - 6s 102us/step - loss: 0.0573 - acc: 0.9825\n",
            "Epoch 18/50\n",
            "60000/60000 [==============================] - 6s 102us/step - loss: 0.0554 - acc: 0.9831\n",
            "Epoch 19/50\n",
            "60000/60000 [==============================] - 6s 102us/step - loss: 0.0534 - acc: 0.9839\n",
            "Epoch 20/50\n",
            "60000/60000 [==============================] - 6s 101us/step - loss: 0.0517 - acc: 0.9844\n",
            "Epoch 21/50\n",
            "60000/60000 [==============================] - 6s 103us/step - loss: 0.0503 - acc: 0.9849\n",
            "Epoch 22/50\n",
            "60000/60000 [==============================] - 6s 102us/step - loss: 0.0488 - acc: 0.9853\n",
            "Epoch 23/50\n",
            "60000/60000 [==============================] - 6s 102us/step - loss: 0.0474 - acc: 0.9859\n",
            "Epoch 24/50\n",
            "60000/60000 [==============================] - 6s 103us/step - loss: 0.0461 - acc: 0.9860\n",
            "Epoch 25/50\n",
            "60000/60000 [==============================] - 6s 101us/step - loss: 0.0449 - acc: 0.9865\n",
            "Epoch 26/50\n",
            "60000/60000 [==============================] - 6s 101us/step - loss: 0.0439 - acc: 0.9870\n",
            "Epoch 27/50\n",
            "60000/60000 [==============================] - 6s 102us/step - loss: 0.0428 - acc: 0.9873\n",
            "Epoch 28/50\n",
            "60000/60000 [==============================] - 6s 101us/step - loss: 0.0421 - acc: 0.9869\n",
            "Epoch 29/50\n",
            "60000/60000 [==============================] - 6s 101us/step - loss: 0.0409 - acc: 0.9873\n",
            "Epoch 30/50\n",
            "60000/60000 [==============================] - 6s 102us/step - loss: 0.0403 - acc: 0.9879\n",
            "Epoch 31/50\n",
            "60000/60000 [==============================] - 6s 102us/step - loss: 0.0392 - acc: 0.9884\n",
            "Epoch 32/50\n",
            "60000/60000 [==============================] - 6s 101us/step - loss: 0.0383 - acc: 0.9887\n",
            "Epoch 33/50\n",
            "60000/60000 [==============================] - 6s 102us/step - loss: 0.0376 - acc: 0.9891\n",
            "Epoch 34/50\n",
            "60000/60000 [==============================] - 6s 101us/step - loss: 0.0371 - acc: 0.9889\n",
            "Epoch 35/50\n",
            "60000/60000 [==============================] - 6s 102us/step - loss: 0.0362 - acc: 0.9891\n",
            "Epoch 36/50\n",
            "60000/60000 [==============================] - 6s 102us/step - loss: 0.0355 - acc: 0.9891\n",
            "Epoch 37/50\n",
            "60000/60000 [==============================] - 6s 102us/step - loss: 0.0345 - acc: 0.9899\n",
            "Epoch 38/50\n",
            "60000/60000 [==============================] - 6s 102us/step - loss: 0.0343 - acc: 0.9899\n",
            "Epoch 39/50\n",
            "60000/60000 [==============================] - 6s 106us/step - loss: 0.0338 - acc: 0.9898\n",
            "Epoch 40/50\n",
            "60000/60000 [==============================] - 6s 105us/step - loss: 0.0330 - acc: 0.9899\n",
            "Epoch 41/50\n",
            "60000/60000 [==============================] - 6s 101us/step - loss: 0.0324 - acc: 0.9905\n",
            "Epoch 42/50\n",
            "60000/60000 [==============================] - 6s 102us/step - loss: 0.0315 - acc: 0.9904\n",
            "Epoch 43/50\n",
            "60000/60000 [==============================] - 6s 100us/step - loss: 0.0318 - acc: 0.9904\n",
            "Epoch 44/50\n",
            "60000/60000 [==============================] - 6s 101us/step - loss: 0.0309 - acc: 0.9908\n",
            "Epoch 45/50\n",
            "60000/60000 [==============================] - 6s 102us/step - loss: 0.0306 - acc: 0.9910\n",
            "Epoch 46/50\n",
            "60000/60000 [==============================] - 6s 101us/step - loss: 0.0299 - acc: 0.9910\n",
            "Epoch 47/50\n",
            "60000/60000 [==============================] - 6s 101us/step - loss: 0.0294 - acc: 0.9914\n",
            "Epoch 48/50\n",
            "60000/60000 [==============================] - 6s 102us/step - loss: 0.0292 - acc: 0.9912\n",
            "Epoch 49/50\n",
            "60000/60000 [==============================] - 6s 99us/step - loss: 0.0286 - acc: 0.9915\n",
            "Epoch 50/50\n",
            "60000/60000 [==============================] - 6s 101us/step - loss: 0.0279 - acc: 0.9919\n"
          ],
          "name": "stdout"
        },
        {
          "output_type": "execute_result",
          "data": {
            "text/plain": [
              "<keras.callbacks.History at 0x7f8603e26a10>"
            ]
          },
          "metadata": {
            "tags": []
          },
          "execution_count": 7
        }
      ]
    },
    {
      "metadata": {
        "id": "_dP2yf1ygKjF",
        "colab_type": "code",
        "colab": {
          "base_uri": "https://localhost:8080/",
          "height": 68
        },
        "outputId": "3d706a1e-4e5e-47f0-e759-a628e08038dd"
      },
      "cell_type": "code",
      "source": [
        "test_loss, test_acc = model.evaluate(test_images, test_labels)\n",
        "\n",
        "print('Test loss:', test_loss)\n",
        "print('Test accuracy:', test_acc)"
      ],
      "execution_count": 8,
      "outputs": [
        {
          "output_type": "stream",
          "text": [
            "10000/10000 [==============================] - 1s 106us/step\n",
            "('Test loss:', 0.03573849778391887)\n",
            "('Test accuracy:', 0.9881)\n"
          ],
          "name": "stdout"
        }
      ]
    },
    {
      "metadata": {
        "id": "XQUUE35UgNiv",
        "colab_type": "code",
        "colab": {}
      },
      "cell_type": "code",
      "source": [
        ""
      ],
      "execution_count": 0,
      "outputs": []
    }
  ]
}